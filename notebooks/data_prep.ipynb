{
 "cells": [
  {
   "cell_type": "code",
   "execution_count": 1,
   "metadata": {},
   "outputs": [],
   "source": [
    "import numpy as np\n",
    "import pandas as pd \n",
    "import matplotlib.pyplot as plt\n",
    "import seaborn as sns\n",
    "\n",
    "import re\n",
    "\n",
    "import warnings\n",
    "warnings.filterwarnings('ignore')\n",
    "pd.set_option('display.max_columns', None)\n",
    "plt.style.use('fivethirtyeight')"
   ]
  },
  {
   "cell_type": "code",
   "execution_count": 2,
   "metadata": {},
   "outputs": [],
   "source": [
    "df1 = pd.read_csv('../data/full_dataset/goemotions_1.csv')\n",
    "df2 = pd.read_csv('../data/full_dataset/goemotions_2.csv')\n",
    "df3 = pd.read_csv('../data/full_dataset/goemotions_3.csv')\n",
    "\n",
    "df = pd.concat([df1, df2, df3]).reset_index(drop=True)"
   ]
  },
  {
   "cell_type": "code",
   "execution_count": 3,
   "metadata": {},
   "outputs": [],
   "source": [
    "useful_cols = ['id','admiration',\n",
    "       'amusement', 'anger', 'annoyance', 'approval', 'caring', 'confusion',\n",
    "       'curiosity', 'desire', 'disappointment', 'disapproval', 'disgust',\n",
    "       'embarrassment', 'excitement', 'fear', 'gratitude', 'grief', 'joy',\n",
    "       'love', 'nervousness', 'optimism', 'pride', 'realization', 'relief',\n",
    "       'remorse', 'sadness', 'surprise', 'neutral']"
   ]
  },
  {
   "cell_type": "code",
   "execution_count": 4,
   "metadata": {},
   "outputs": [
    {
     "data": {
      "text/plain": [
       "example_very_unclear\n",
       "False    207814\n",
       "True       3411\n",
       "Name: count, dtype: int64"
      ]
     },
     "execution_count": 4,
     "metadata": {},
     "output_type": "execute_result"
    }
   ],
   "source": [
    "df.example_very_unclear.value_counts()"
   ]
  },
  {
   "cell_type": "code",
   "execution_count": 5,
   "metadata": {},
   "outputs": [
    {
     "name": "stdout",
     "output_type": "stream",
     "text": [
      "No of tweet ids: 58011\n",
      "No of unique rater ids: 82\n",
      "No of unique tweets: 57732\n",
      "Unclear/ Difficult to label tweets: 1.61 %\n",
      "Number of tweets where at least 2+ raters agree upon 1 label: 54263\n",
      "Number of tweets where at least 3+ raters agree upon 1 label: 17763\n",
      "\n",
      "No of raters per tweet (id): \n",
      " rater_id\n",
      "3    64.358484\n",
      "5    30.873455\n",
      "4     3.626898\n",
      "2     1.020496\n",
      "1     0.120667\n",
      "Name: proportion, dtype: float64\n"
     ]
    }
   ],
   "source": [
    "print('No of tweet ids:', df['id'].nunique())\n",
    "print('No of unique rater ids:', df['rater_id'].nunique())\n",
    "print('No of unique tweets:', df['text'].nunique())\n",
    "print('Unclear/ Difficult to label tweets:', np.round((df['example_very_unclear'].sum()*100 / len(df)), 2), '%')\n",
    "\n",
    "aggregated = df[useful_cols].groupby('id').sum()\n",
    "# if even one axis has more than 2 True\n",
    "raters_2 = (aggregated >= 2).any(axis=1).sum()\n",
    "raters_3 = (aggregated >= 3).any(axis=1).sum()\n",
    "\n",
    "print(\"Number of tweets where at least 2+ raters agree upon 1 label:\", raters_2)\n",
    "print(\"Number of tweets where at least 3+ raters agree upon 1 label:\", raters_3)\n",
    "\n",
    "prop = df.groupby('id')['rater_id'].nunique().value_counts(normalize=True)*100\n",
    "print(\"\\nNo of raters per tweet (id): \\n\", prop)"
   ]
  },
  {
   "cell_type": "code",
   "execution_count": 6,
   "metadata": {},
   "outputs": [],
   "source": [
    "emotion_cols = ['admiration', 'amusement', 'anger', 'annoyance', 'approval',\n",
    "       'caring', 'confusion', 'curiosity', 'desire', 'disappointment',\n",
    "       'disapproval', 'disgust', 'embarrassment', 'excitement', 'fear',\n",
    "       'gratitude', 'grief', 'joy', 'love', 'nervousness', 'optimism', 'pride',\n",
    "       'realization', 'relief', 'remorse', 'sadness', 'surprise', 'neutral']\n",
    "\n",
    "reset_cols = ['id', 'text', 'admiration', 'amusement', 'anger', 'annoyance', \n",
    "       'approval', 'caring', 'confusion', 'curiosity', 'desire', 'disappointment',\n",
    "       'disapproval', 'disgust', 'embarrassment', 'excitement', 'fear',\n",
    "       'gratitude', 'grief', 'joy', 'love', 'nervousness', 'optimism', 'pride',\n",
    "       'realization', 'relief', 'remorse', 'sadness', 'surprise', 'neutral']"
   ]
  },
  {
   "cell_type": "code",
   "execution_count": 7,
   "metadata": {},
   "outputs": [],
   "source": [
    "def first_preprocessing(text):\n",
    "    all_punctuations = '''!-{}\\,<>./?@#$%^&*_~`|()'''\n",
    "    # >1 same punctuations replaced by same punctuation\n",
    "    cleaned_text = re.sub(f'([{re.escape(all_punctuations)}])\\s*\\\\1*', r'\\1 ', text)\n",
    "    remove_punctuations = '''{}\\<>/@#$%^&*_~`|()'''\n",
    "    # removing less occuring/ noisy punctuations\n",
    "    cleaned_text = ''.join(char for char in cleaned_text if char not in remove_punctuations)\n",
    "    # remove extra spaces\n",
    "    cleaned_text = re.sub(r'\\s+', ' ', cleaned_text).strip()\n",
    "    # make sure there is no extra space after sentence complete\n",
    "    if len(cleaned_text) != 0:\n",
    "        if cleaned_text[-1] == ' ':\n",
    "            return cleaned_text[:-1]\n",
    "\n",
    "    return cleaned_text"
   ]
  },
  {
   "cell_type": "code",
   "execution_count": 8,
   "metadata": {},
   "outputs": [
    {
     "name": "stdout",
     "output_type": "stream",
     "text": [
      "No of examples after preprocessing: 53951\n"
     ]
    }
   ],
   "source": [
    "new_df = df.copy()\n",
    "new_df = new_df[new_df['example_very_unclear']==False].reset_index(drop=True)\n",
    "new_df = new_df[['id', 'text']][~new_df[['id']].duplicated()]\n",
    "new_df = pd.merge(df[useful_cols].groupby('id').sum() >= 2, new_df, on='id')\n",
    "new_df = new_df[new_df.drop(columns={'text', 'id'}).sum(axis=1) >= 1]\n",
    "\n",
    "new_df = new_df[reset_cols]\n",
    "new_df['text'] = new_df['text'].apply(first_preprocessing)\n",
    "new_df[emotion_cols] = new_df[emotion_cols].astype(int)\n",
    "\n",
    "df1 = new_df[~new_df.duplicated('text', keep=False)].reset_index(drop=True).drop(columns={'id'})\n",
    "df2 = new_df[new_df.duplicated('text', keep=False)].reset_index(drop=True)\n",
    "df2 = (df2.drop(columns={'id'})[df2.duplicated('text', keep=False)].groupby('text').sum() >= 2).reset_index()\n",
    "\n",
    "final_df = pd.concat([df1, df2]).reset_index(drop=True)\n",
    "print('No of examples after preprocessing:', len(final_df))"
   ]
  },
  {
   "cell_type": "code",
   "execution_count": 9,
   "metadata": {},
   "outputs": [
    {
     "name": "stdout",
     "output_type": "stream",
     "text": [
      "No of texts with less than 3 words: 1117\n",
      "No of texts with more than 30 words: 9\n"
     ]
    }
   ],
   "source": [
    "l_index, u_index = [], []\n",
    "for i, text in enumerate(final_df['text']):\n",
    "    if len((text).split()) < 3:\n",
    "        l_index.append(i)\n",
    "    if len((text).split()) > 30:\n",
    "        u_index.append(i)\n",
    "\n",
    "print('No of texts with less than 3 words:', len(l_index))\n",
    "print('No of texts with more than 30 words:', len(u_index))"
   ]
  },
  {
   "cell_type": "code",
   "execution_count": 14,
   "metadata": {},
   "outputs": [],
   "source": [
    "final_df.to_csv('../data/cleaned_data.csv', index=False)"
   ]
  },
  {
   "cell_type": "code",
   "execution_count": null,
   "metadata": {},
   "outputs": [],
   "source": []
  },
  {
   "cell_type": "code",
   "execution_count": null,
   "metadata": {},
   "outputs": [],
   "source": []
  },
  {
   "cell_type": "code",
   "execution_count": null,
   "metadata": {},
   "outputs": [],
   "source": []
  }
 ],
 "metadata": {
  "kernelspec": {
   "display_name": "env",
   "language": "python",
   "name": "python3"
  },
  "language_info": {
   "codemirror_mode": {
    "name": "ipython",
    "version": 3
   },
   "file_extension": ".py",
   "mimetype": "text/x-python",
   "name": "python",
   "nbconvert_exporter": "python",
   "pygments_lexer": "ipython3",
   "version": "3.9.13"
  },
  "orig_nbformat": 4
 },
 "nbformat": 4,
 "nbformat_minor": 2
}
